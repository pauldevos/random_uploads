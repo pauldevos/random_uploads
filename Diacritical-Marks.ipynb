{
 "cells": [
  {
   "cell_type": "code",
   "execution_count": 71,
   "metadata": {},
   "outputs": [
    {
     "data": {
      "text/plain": [
       "'Luka Doncic aee oea acon helloyui Dino Raa Peja Stojakovic Manu Ginobili'"
      ]
     },
     "execution_count": 71,
     "metadata": {},
     "output_type": "execute_result"
    }
   ],
   "source": [
    "import unicodedata\n",
    "\n",
    "def convert_diacritic(string):\n",
    "    '''\n",
    "    Accept a unicode string, and return a normal string without any diacritical marks.\n",
    "    '''\n",
    "    return unicodedata.normalize('NFKD', string).encode('ASCII', 'ignore').decode()\n",
    "\n",
    "\n",
    "remove_diacritic(\"Luka Dončić àéê öēä āčõñ helloÿûî Dino Rađa Peja Stojaković Manu Ginóbili\")"
   ]
  },
  {
   "cell_type": "markdown",
   "metadata": {},
   "source": [
    "### Test on BBREF"
   ]
  },
  {
   "cell_type": "code",
   "execution_count": 27,
   "metadata": {},
   "outputs": [],
   "source": [
    "import requests\n",
    "from bs4 import BeautifulSoup, Tag, NavigableString"
   ]
  },
  {
   "cell_type": "code",
   "execution_count": 28,
   "metadata": {},
   "outputs": [],
   "source": [
    "HOME_REF = \"https://www.basketball-reference.com/players/\""
   ]
  },
  {
   "cell_type": "markdown",
   "metadata": {},
   "source": [
    "### Get Letters - exclude X as no X first letter in last names"
   ]
  },
  {
   "cell_type": "code",
   "execution_count": 30,
   "metadata": {},
   "outputs": [],
   "source": [
    "import string"
   ]
  },
  {
   "cell_type": "code",
   "execution_count": 33,
   "metadata": {},
   "outputs": [],
   "source": [
    "\n",
    "letters = [letter for letter in string.ascii_lowercase if letter != 'x']"
   ]
  },
  {
   "cell_type": "code",
   "execution_count": 42,
   "metadata": {},
   "outputs": [],
   "source": [
    "import time\n",
    "\n",
    "time.sleep(2)"
   ]
  },
  {
   "cell_type": "code",
   "execution_count": 61,
   "metadata": {},
   "outputs": [],
   "source": [
    "def get_players_from_page(letter):\n",
    "    url = f\"https://www.basketball-reference.com/players/{letter}\"\n",
    "    r = requests.get(url)\n",
    "    soup = BeautifulSoup(r.text, 'lxml')\n",
    "    \n",
    "    \n",
    "    players_list = []\n",
    "    for th in soup.find('tbody').find_all('th', {\"data-stat\":\"player\"}):\n",
    "        players_list.append(th.text)\n",
    "        \n",
    "    return players_list"
   ]
  },
  {
   "cell_type": "code",
   "execution_count": null,
   "metadata": {},
   "outputs": [],
   "source": []
  },
  {
   "cell_type": "code",
   "execution_count": null,
   "metadata": {},
   "outputs": [],
   "source": []
  },
  {
   "cell_type": "code",
   "execution_count": 62,
   "metadata": {},
   "outputs": [
    {
     "name": "stdout",
     "output_type": "stream",
     "text": [
      "Letter: a done\n",
      "166\n",
      "['Alaa Abdelnaby', 'Zaid Abdul-Aziz', 'Kareem Abdul-Jabbar*', 'Mahmoud Abdul-Rauf', 'Tariq Abdul-Wahad']\n",
      "Letter: b done\n",
      "624\n",
      "['Chris Babb', 'Luke Babbitt', 'Miloš Babić', 'Johnny Bach', 'Dwayne Bacon']\n",
      "Letter: c done\n",
      "921\n",
      "['Žarko Čabarkapa', 'Barney Cable', 'Bruno Caboclo', 'Jason Caffey', 'Michael Cage']\n",
      "Letter: d done\n",
      "1158\n",
      "[\"Mike D'Antoni\", 'Mike Dabich', 'Ed Dahler', 'Quintin Dailey', 'Samuel Dalembert']\n",
      "Letter: e done\n",
      "1262\n",
      "['Ledell Eackles', 'Jim Eakins', 'Acie Earl', 'Ed Earle', 'Cleanthony Early']\n",
      "Letter: f done\n",
      "1406\n",
      "['Joe Fabel', 'John Fairchild', 'Tacko Fall', 'Phil Farbman', 'Kenneth Faried']\n",
      "Letter: g done\n",
      "1649\n",
      "['Bill Gabor', 'Wenyen Gabriel', 'Dan Gadzuric', 'Daniel Gafford', 'Deng Gai']\n",
      "Letter: h done\n",
      "1989\n",
      "['Rui Hachimura', 'Rudy Hackett', 'Hamed Haddadi', 'Jim Hadnot', 'Scott Haffner']\n",
      "Letter: i done\n",
      "2015\n",
      "['Marc Iavaroni', 'Serge Ibaka', 'Andre Iguodala', 'Zydrunas Ilgauskas', 'Mile Ilić']\n",
      "Letter: j done\n",
      "2250\n",
      "['Warren Jabali', 'Jarrett Jack', 'Aaron Jackson', 'Al Jackson', 'Bobby Jackson']\n",
      "Letter: k done\n",
      "2419\n",
      "['Mfiondu Kabengele', 'Whitey Kachan', 'George Kaftan', 'Ed Kalafat', 'Chris Kaman']\n",
      "Letter: l done\n",
      "2609\n",
      "['Skal Labissi�re', 'Reggie Lacefield', 'Edgar Lacey', 'Sam Lacey', 'Bob Lackey']\n",
      "Letter: m done\n",
      "3056\n",
      "['Sheldon Mac', 'Mike Macaluso', 'Ed Macauley*', 'Todd MacCulloch', 'Ronnie MacGilvray']\n",
      "Letter: n done\n",
      "3157\n",
      "[\"Hamady N'Diaye\", \"Makhtar N'Diaye\", \"Mamadou N'Diaye\", \"Boniface N'Dong\", 'Bob Naber']\n",
      "Letter: o done\n",
      "3246\n",
      "[\"Charles O'Bannon\", \"Ed O'Bannon\", \"John O'Boyle\", \"Bob O'Brien\", \"J.J. O'Brien\"]\n",
      "Letter: p done\n",
      "3458\n",
      "['Joe Pace', 'Zaza Pachulia', 'Robert Pack', 'Wayne Pack', 'Gerald Paddio']\n",
      "Letter: q done\n",
      "3463\n",
      "['Zhou Qi', 'Tim Quarterman', 'Bob Quick', 'Chris Quinn', 'Brian Quinnett']\n",
      "Letter: r done\n",
      "3711\n",
      "['Ivan Rabb', 'Luther Rackley', 'Howie Rader', 'Mark Radford', 'Wayne Radford']\n",
      "Letter: s done\n",
      "4123\n",
      "['Arvydas Sabonis*', 'Domantas Sabonis', 'Robert Sacre', 'Ed Sadowski', 'Kenny Sailors']\n",
      "Letter: t done\n",
      "4309\n",
      "['Žan Tabak', 'Yuta Tabuse', 'Chris Taft', 'Sid Tanenbaum', 'Dragan Tarlać']\n",
      "Letter: u done\n",
      "4320\n",
      "['Edwin Ubiles', 'Ekpe Udoh', 'Ime Udoka', 'Beno Udrih', 'Roko Ukić']\n",
      "Letter: v done\n",
      "4377\n",
      "['Stephen Vacendak', 'Jonas Valančiūnas', 'Darnell Valentine', 'Denzel Valentine', 'Ronnie Valentine']\n",
      "Letter: w done\n",
      "4742\n",
      "['Dean Wade', 'Dwyane Wade', 'Mark Wade', 'Von Wafer', 'Clint Wager']\n",
      "Letter: y done\n",
      "4761\n",
      "['Guerschon Yabusele', 'Vincent Yarbrough', 'George Yardley*', 'Barry Yates', 'Wayne Yates']\n",
      "Letter: z done\n",
      "4781\n",
      "['Max Zaslofsky', 'Zeke Zawoluk', 'Cody Zeller', 'Dave Zeller', 'Gary Zeller']\n"
     ]
    }
   ],
   "source": [
    "all_players = []\n",
    "for letter in letters:\n",
    "    print(f'Letter: {letter} done')\n",
    "    players = get_players_from_page(letter)\n",
    "    all_players.extend(players)\n",
    "    print(len(all_players))\n",
    "    print(players[:5])\n",
    "    time.sleep(2)"
   ]
  },
  {
   "cell_type": "markdown",
   "metadata": {},
   "source": [
    "### Let's get all the funky names (non ascii)"
   ]
  },
  {
   "cell_type": "code",
   "execution_count": 63,
   "metadata": {},
   "outputs": [],
   "source": [
    "def is_ascii(s):\n",
    "    \"\"\"Had to look this up, each character has a unique 'ord' value, this checks for that\"\"\"\n",
    "    return all(ord(c) < 128 for c in s)"
   ]
  },
  {
   "cell_type": "code",
   "execution_count": null,
   "metadata": {},
   "outputs": [],
   "source": []
  },
  {
   "cell_type": "code",
   "execution_count": 65,
   "metadata": {},
   "outputs": [],
   "source": [
    "diacritic_names = []\n",
    "for player in all_players:\n",
    "    if not is_ascii(player):\n",
    "        diacritic_names.append(player)"
   ]
  },
  {
   "cell_type": "code",
   "execution_count": 66,
   "metadata": {},
   "outputs": [
    {
     "data": {
      "text/plain": [
       "['Sasha Vujačić',\n",
       " 'Jiří Welsch',\n",
       " 'Rubén Wolkowyski',\n",
       " 'George Zídek',\n",
       " 'Ante Žižić']"
      ]
     },
     "execution_count": 66,
     "metadata": {},
     "output_type": "execute_result"
    }
   ],
   "source": [
    "diacritic_names[-5:]"
   ]
  },
  {
   "cell_type": "code",
   "execution_count": 73,
   "metadata": {},
   "outputs": [
    {
     "name": "stdout",
     "output_type": "stream",
     "text": [
      "Alex Abrines\n",
      "Alexis Ajinca\n",
      "Martynas Andriuskevicius\n",
      "Pero Antic\n",
      "Rafael Araujo\n",
      "Omer Ask\n",
      "Gustavo Ayon\n",
      "Milos Babic\n",
      "Dalibor Bagaric\n",
      "Dairis Bertans\n",
      "Davis Bertans\n",
      "Andris Biedrins\n",
      "Bogdan Bogdanovic\n",
      "Bojan Bogdanovic\n",
      "Primoz Brezec\n",
      "Nicolas Brussino\n",
      "Zarko Cabarkapa\n",
      "Jose Calderon\n",
      "Vlatko Cancar\n",
      "Radisav Curcic\n",
      "Rastko Cvetkovic\n",
      "Sasha Danilovic\n",
      "Kornel David\n",
      "Angel Delgado\n",
      "Guillermo Diaz\n",
      "Luka Doncic\n",
      "Goran Dragic\n",
      "Zoran Dragic\n",
      "Vtor Faverani\n",
      "Cristiano Felcio\n",
      "Rudy Fernndez\n",
      "Ruben Garces\n",
      "Francisco Garcia\n",
      "Mickael Gelabale\n",
      "Manu Ginobili\n",
      "Gordan Giricek\n",
      "Donte Greene\n",
      "Andres Guibert\n",
      "Jorge Gutierrez\n",
      "Petur Gumundsson\n",
      "Juan Hernangmez\n",
      "Willy Hernangmez\n",
      "Nen Hilrio\n",
      "Mile Ilic\n",
      "Ersan Ilyasova\n",
      "Marko Jaric\n",
      "Sarunas Jasikevicius\n",
      "Nikola Jokic\n",
      "Nenad Krstic\n",
      "Toni Kukoc\n",
      "Ognjen Kuzmic\n",
      "Skal Labissire\n",
      "Nicols Laprovttola\n",
      "Stphane Lasme\n",
      "Felipe Lpez\n",
      "Ral Lpez\n",
      "Timoth Luwawu-Cabarrot\n",
      "Sarunas Marciulionis*\n",
      "Boban Marjanovic\n",
      "Fernando Martin\n",
      "Nicolo Melli\n",
      "Marko Milic\n",
      "Darko Milicic\n",
      "Nikola Mirotic\n",
      "Jerome Moiso\n",
      "Donatas Motiejunas\n",
      "Hanno Mottola\n",
      "Gheorghe Muresan\n",
      "Dzanan Musa\n",
      "Martin Muursepp\n",
      "Bostjan Nachbar\n",
      "Eduardo Najera\n",
      "Nemanja Nedovic\n",
      "Rasho Nesterovic\n",
      "Andres Nocioni\n",
      "Jusuf Nurkic\n",
      "Jos Ortiz\n",
      "Anzejs Pasecniks\n",
      "Zarko Paspalj\n",
      "Sasha Pavlovic\n",
      "Nikola Pekovic\n",
      "Kosta Perovic\n",
      "Drazen Petrovic*\n",
      "Richard Petruska\n",
      "Mickael Pietrus\n",
      "Zoran Planinic\n",
      "Tibor Plei\n",
      "Jakob Poltl\n",
      "Kristaps Porzingis\n",
      "Vladimir Radmanovic\n",
      "Aleksandar Radojevic\n",
      "Igor Rakocevic\n",
      "Dino Raa*\n",
      "Zeljko Rebraca\n",
      "Ramon Rivas\n",
      "Sergio Rodriguez\n",
      "Damjan Rudez\n",
      "Pepe Sanchez\n",
      "Dario Saric\n",
      "Tomas Satoransky\n",
      "Predrag Savovic\n",
      "Dennis Schroder\n",
      "Kevin Seraphin\n",
      "Uros Slokar\n",
      "Alen Smailagic\n",
      "Peja Stojakovic\n",
      "Bruno Sundov\n",
      "Zan Tabak\n",
      "Dragan Tarlac\n",
      "Mirza Teletovic\n",
      "Milos Teodosic\n",
      "Oscar Torres\n",
      "Cezary Trybanski\n",
      "Mirsad Turkcan\n",
      "Hedo Turkoglu\n",
      "Roko Ukic\n",
      "Jonas Valanciunas\n",
      "Anderson Varejao\n",
      "Greivis Vasquez\n",
      "Jan Vesely\n",
      "Gundars Vetra\n",
      "Joao Vianna\n",
      "Slavko Vranes\n",
      "Stojko Vrankovic\n",
      "Nikola Vucevic\n",
      "Sasha Vujacic\n",
      "Jiri Welsch\n",
      "Ruben Wolkowyski\n",
      "George Zidek\n",
      "Ante Zizic\n"
     ]
    }
   ],
   "source": [
    "for name in diacritic_names:\n",
    "    print(convert_diacritic(name))"
   ]
  },
  {
   "cell_type": "code",
   "execution_count": 72,
   "metadata": {},
   "outputs": [
    {
     "data": {
      "text/plain": [
       "'Dino Raa*'"
      ]
     },
     "execution_count": 72,
     "metadata": {},
     "output_type": "execute_result"
    }
   ],
   "source": [
    "convert_diacritic(\"Dino Rađa*\")"
   ]
  },
  {
   "cell_type": "code",
   "execution_count": null,
   "metadata": {},
   "outputs": [],
   "source": []
  }
 ],
 "metadata": {
  "kernelspec": {
   "display_name": "Python [conda env:py37] *",
   "language": "python",
   "name": "conda-env-py37-py"
  },
  "language_info": {
   "codemirror_mode": {
    "name": "ipython",
    "version": 3
   },
   "file_extension": ".py",
   "mimetype": "text/x-python",
   "name": "python",
   "nbconvert_exporter": "python",
   "pygments_lexer": "ipython3",
   "version": "3.7.5"
  },
  "toc": {
   "base_numbering": 1,
   "nav_menu": {},
   "number_sections": true,
   "sideBar": true,
   "skip_h1_title": false,
   "title_cell": "Table of Contents",
   "title_sidebar": "Contents",
   "toc_cell": false,
   "toc_position": {},
   "toc_section_display": true,
   "toc_window_display": false
  }
 },
 "nbformat": 4,
 "nbformat_minor": 2
}
