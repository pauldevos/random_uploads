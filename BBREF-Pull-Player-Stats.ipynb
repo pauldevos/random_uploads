{
 "cells": [
  {
   "cell_type": "code",
   "execution_count": 2,
   "metadata": {},
   "outputs": [],
   "source": [
    "import pandas as pd\n",
    "import random\n",
    "import requests\n",
    "import pathlib\n",
    "from bs4 import BeautifulSoup, Tag, NavigableString\n",
    "import os\n",
    "import time"
   ]
  },
  {
   "cell_type": "code",
   "execution_count": 3,
   "metadata": {},
   "outputs": [],
   "source": [
    "HOME_DIR = pathlib.Path.home()\n",
    "NOTEBOOK_DIR = pathlib.Path('.').resolve()\n",
    "BBREF_DIR = HOME_DIR.joinpath('data') / 'bbref'"
   ]
  },
  {
   "cell_type": "code",
   "execution_count": 4,
   "metadata": {},
   "outputs": [],
   "source": [
    "NBA_ADVANCED_DIR = BBREF_DIR /'nba' / 'player_stats' / 'advanced'\n",
    "NBA_PER_GAME_DIR = BBREF_DIR /'nba' / 'player_stats' / 'per_game'\n",
    "NBA_TOTALS_DIR = BBREF_DIR / 'nba' / 'player_stats' / 'totals'\n",
    "\n",
    "ABA_ADVANCED_DIR = BBREF_DIR /'aba' / 'player_stats' / 'advanced'\n",
    "ABA_PER_GAME_DIR = BBREF_DIR /'aba' / 'player_stats' / 'per_game'\n",
    "ABA_TOTALS_DIR = BBREF_DIR / 'aba' / 'player_stats' / 'totals'"
   ]
  },
  {
   "cell_type": "code",
   "execution_count": 5,
   "metadata": {},
   "outputs": [],
   "source": [
    "directory_list = [NBA_ADVANCED_DIR, NBA_PER_GAME_DIR, NBA_TOTALS_DIR,\n",
    "                  ABA_ADVANCED_DIR, ABA_PER_GAME_DIR, ABA_TOTALS_DIR]"
   ]
  },
  {
   "cell_type": "code",
   "execution_count": 6,
   "metadata": {},
   "outputs": [
    {
     "name": "stdout",
     "output_type": "stream",
     "text": [
      "Directory created: /Users/datawonk/data/bbref/nba/player_stats/advanced\n",
      "Directory created: /Users/datawonk/data/bbref/nba/player_stats/per_game\n",
      "Directory created: /Users/datawonk/data/bbref/nba/player_stats/totals\n",
      "Directory created: /Users/datawonk/data/bbref/aba/player_stats/advanced\n",
      "Directory created: /Users/datawonk/data/bbref/aba/player_stats/per_game\n",
      "Directory created: /Users/datawonk/data/bbref/aba/player_stats/totals\n"
     ]
    }
   ],
   "source": [
    "for directory in directory_list:\n",
    "    if not os.path.exists(directory):\n",
    "        os.makedirs(directory)\n",
    "        print(f\"Directory created: {directory}\")"
   ]
  },
  {
   "cell_type": "markdown",
   "metadata": {},
   "source": [
    "### Get and Set Header - User-Agent"
   ]
  },
  {
   "cell_type": "code",
   "execution_count": 8,
   "metadata": {},
   "outputs": [
    {
     "data": {
      "text/plain": [
       "{'User-Agent': 'Mozilla/5.0 (X11; Linux x86_64) AppleWebKit/537.36 (KHTML, like Gecko) Chrome/55.0.2883.87 Safari/537.36'}"
      ]
     },
     "execution_count": 8,
     "metadata": {},
     "output_type": "execute_result"
    }
   ],
   "source": [
    "headers = {'User-Agent': (f\"Mozilla/5.0 (X11; Linux x86_64) AppleWebKit/537.36\"\n",
    "                          f\" (KHTML, like Gecko) Chrome/55.0.2883.87 Safari/537.36\")}\n",
    "headers"
   ]
  },
  {
   "cell_type": "code",
   "execution_count": 9,
   "metadata": {},
   "outputs": [],
   "source": []
  },
  {
   "cell_type": "code",
   "execution_count": 42,
   "metadata": {},
   "outputs": [],
   "source": [
    "TOTALS_HEADER = ['player', 'pos', 'age', 'team', 'g', 'gs', 'mp', \n",
    "                 'fg', 'fga', 'fg_pct', 'fg3', 'fg3a', 'fg3_pct', 'fg2', 'fga2', 'fg2_pct',\n",
    "                 'efg_pct', 'ft', 'fta', 'ft_pct', 'oreb', 'dreb', 'treb', 'ast', 'stl', 'blk', 'tov', 'pf', 'pts']\n",
    "\n",
    "ADVANCED_HEADER = ['player', 'pos', 'age', 'team', 'g','mp', 'per', 'ts_pct', \n",
    "                   'fg3a_rate', 'fta_rate', 'oreb_pct', 'dreb_pct', 'treb_pct', 'ast_pct', 'stl_pct', 'blk_pct',\n",
    "                   'tov_pct','usage_pct', 'blank1', 'ows', 'dws', 'ws', 'ws_48', 'blank2', 'obpm', 'dbpm', 'bpm',\n",
    "                   'vorp']\n",
    "\n",
    "PER_GAME_HEADER = ['player', 'pos', 'age', 'team', 'g', 'gs', 'mp', \n",
    "                 'fg', 'fga', 'fg_pct', 'fg3', 'fg3a', 'fg3_pct', 'fg2', 'fga2', 'fg2_pct',\n",
    "                 'efg_pct', 'ft', 'fta', 'ft_pct', 'oreb', 'dreb', 'treb', 'ast', 'stl', 'blk', 'tov', 'pf', 'pts']\n",
    "\n",
    "# PER100_HEADER = ['player', 'pos', 'age', 'team', 'g', 'gs', 'mp', 'fg', 'fga', 'fg_pct', \n",
    "#                  'fg3', 'fg3a', 'fg3_pct', 'fg2', 'fga2', 'fg2_pct', 'ft', 'fta', 'ft_pct', \n",
    "#                  'oreb', 'dreb', 'treb', 'ast', 'stl', 'blk', 'tov', 'pf', 'pts', 'blank', 'ortg', 'drtg']\n",
    "\n",
    "BIOS_HEADER = ['bbref_player_link', 'player_name', 'rookie_year', 'last_year', 'pos', 'height', \n",
    "               'weight', 'birthdate', 'colleges']"
   ]
  },
  {
   "cell_type": "markdown",
   "metadata": {},
   "source": [
    "### Pull Player Data: NBA/BAA"
   ]
  },
  {
   "cell_type": "code",
   "execution_count": 11,
   "metadata": {},
   "outputs": [],
   "source": [
    "# https://www.basketball-reference.com/leagues/ABA_1968_totals.html"
   ]
  },
  {
   "cell_type": "code",
   "execution_count": 49,
   "metadata": {
    "scrolled": true
   },
   "outputs": [
    {
     "name": "stdout",
     "output_type": "stream",
     "text": [
      "2020\n",
      "https://www.basketball-reference.com/leagues/NBA_2020_advanced.html\n",
      "data/nba/player_stats/advanced/player_stats_advanced_2020.csv\n",
      "slept: 1.5232239978724693\n",
      "\n",
      "2020\n",
      "https://www.basketball-reference.com/leagues/NBA_2020_per_game.html\n",
      "data/nba/player_stats/per_game/player_stats_per_game_2020.csv\n",
      "slept: 1.920437824691217\n",
      "\n",
      "2020\n",
      "https://www.basketball-reference.com/leagues/NBA_2020_totals.html\n",
      "data/nba/player_stats/totals/player_stats_totals_2020.csv\n",
      "slept: 2.0881441214753194\n",
      "\n"
     ]
    }
   ],
   "source": [
    "BASE_URL = \"https://www.basketball-reference.com/leagues/\"\n",
    "NBA_years = [year for year in range(2020, 1949, -1)]\n",
    "stats_type_list = ['advanced', 'per_game', 'totals']\n",
    "\n",
    "for year in NBA_years:\n",
    "    for stat_type in stats_type_list:\n",
    "\n",
    "        if stat_type == 'advanced':\n",
    "            DIR = NBA_ADVANCED_DIR\n",
    "            HEADER = ADVANCED_HEADER\n",
    "        elif stat_type == 'per_game':\n",
    "            DIR = NBA_PER_GAME_DIR\n",
    "            HEADER = PER_GAME_HEADER\n",
    "        elif stat_type == 'totals':\n",
    "            DIR = NBA_TOTALS_DIR\n",
    "            HEADER = TOTALS_HEADER\n",
    "            \n",
    "        print(year)\n",
    "        NBA_URL = f\"NBA_{year}_{stat_type}.html\"\n",
    "        print(BASE_URL + NBA_URL)\n",
    "        r = requests.get(BASE_URL + NBA_URL, headers=headers)\n",
    "\n",
    "        soup = BeautifulSoup(r.text, 'lxml')\n",
    "        # pull out table body\n",
    "        body = soup.find('tbody')\n",
    "\n",
    "        player_links = []\n",
    "        for i in body.find_all('tr'):\n",
    "            for k in i.find_all('td', {\"data-stat\":\"player\"}):\n",
    "                if k.find('a') is not None:\n",
    "                    player_links.append(k.find('a')['href'])\n",
    "                # print(k.text)\n",
    "\n",
    "\n",
    "        player_stats = []\n",
    "        for i in body.find_all('tr'):\n",
    "            row_stats = []\n",
    "            for j in i.find_all('td'):\n",
    "                row_stats.append(j.text)\n",
    "            if row_stats:\n",
    "                player_stats.append(row_stats)\n",
    "\n",
    "        team_links = []\n",
    "        for i in body.find_all('tr'):\n",
    "            for k in i.find_all('td', {\"data-stat\":\"team_id\"}):\n",
    "                if k.find('a') is not None:\n",
    "                    team_links.append(k.find('a')['href'])\n",
    "                else:\n",
    "                    team_links.append('TOT')\n",
    "\n",
    "        season_id = str(year-1) + '-' + str(year)[-2:]\n",
    "        df = pd.DataFrame(player_stats, columns=HEADER)\n",
    "        df.insert(0, \"bbref_player_link\", player_links)\n",
    "        df.insert(0, \"bbref_team_link\", team_links)\n",
    "        df.insert(0, \"season_year\", year)\n",
    "        df.insert(0, 'season_id', season_id)\n",
    "\n",
    "        filename = f\"player_stats_{stat_type}_{year}.csv\"\n",
    "        file_path = DIR + filename\n",
    "        df.to_csv(file_path, index=False)\n",
    "        print(file_path)\n",
    "\n",
    "        timer = random.uniform(1.5, 3)\n",
    "        time.sleep(timer)\n",
    "        print(f\"slept: {timer}\\n\")\n"
   ]
  },
  {
   "cell_type": "code",
   "execution_count": null,
   "metadata": {},
   "outputs": [],
   "source": []
  },
  {
   "cell_type": "markdown",
   "metadata": {},
   "source": [
    "### Pull Player Data: ABA"
   ]
  },
  {
   "cell_type": "code",
   "execution_count": 48,
   "metadata": {
    "scrolled": true
   },
   "outputs": [
    {
     "name": "stdout",
     "output_type": "stream",
     "text": [
      "1976\n",
      "https://www.basketball-reference.com/leagues/ABA_1976_advanced.html\n",
      "data/aba/player_stats/advanced/player_stats_advanced_1976.csv\n",
      "slept: 1.521762778619463\n",
      "\n",
      "1976\n",
      "https://www.basketball-reference.com/leagues/ABA_1976_per_game.html\n",
      "data/aba/player_stats/per_game/player_stats_per_game_1976.csv\n",
      "slept: 2.7343880294027882\n",
      "\n",
      "1976\n",
      "https://www.basketball-reference.com/leagues/ABA_1976_totals.html\n",
      "data/aba/player_stats/totals/player_stats_totals_1976.csv\n",
      "slept: 1.999381522529545\n",
      "\n"
     ]
    }
   ],
   "source": [
    "# https://www.basketball-reference.com/leagues/ABA_1968_totals.html\n",
    "\n",
    "BASE_URL = \"https://www.basketball-reference.com/leagues/\"\n",
    "ABA_years = [year for year in range(1976, 1967, -1)]\n",
    "stats_type_list = ['advanced', 'per_game', 'totals']\n",
    "\n",
    "\n",
    "for year in ABA_years:\n",
    "    for stat_type in stats_type_list:\n",
    "\n",
    "        if stat_type == 'advanced':\n",
    "            DIR = ABA_ADVANCED_DIR\n",
    "            HEADER = ADVANCED_HEADER\n",
    "        elif stat_type == 'per_game':\n",
    "            DIR = ABA_PER_GAME_DIR\n",
    "            HEADER = PER_GAME_HEADER\n",
    "        elif stat_type == 'totals':\n",
    "            DIR = ABA_TOTALS_DIR\n",
    "            HEADER = TOTALS_HEADER\n",
    "        \n",
    "        print(year)\n",
    "        NBA_URL = f\"ABA_{year}_{stat_type}.html\"\n",
    "        print(BASE_URL + NBA_URL)\n",
    "        r = requests.get(BASE_URL + NBA_URL, headers=headers)\n",
    "\n",
    "        soup = BeautifulSoup(r.text, 'lxml')\n",
    "        # pull out table body\n",
    "        body = soup.find('tbody')\n",
    "\n",
    "        player_links = []\n",
    "        for i in body.find_all('tr'):\n",
    "            for k in i.find_all('td', {\"data-stat\":\"player\"}):\n",
    "                if k.find('a') is not None:\n",
    "                    player_links.append(k.find('a')['href'])\n",
    "                # print(k.text)\n",
    "\n",
    "\n",
    "        player_stats = []\n",
    "        for i in body.find_all('tr'):\n",
    "            row_stats = []\n",
    "            for j in i.find_all('td'):\n",
    "                row_stats.append(j.text)\n",
    "            if row_stats:\n",
    "                player_stats.append(row_stats)\n",
    "\n",
    "        team_links = []\n",
    "        for i in body.find_all('tr'):\n",
    "            for k in i.find_all('td', {\"data-stat\":\"team_id\"}):\n",
    "                if k.find('a') is not None:\n",
    "                    team_links.append(k.find('a')['href'])\n",
    "                else:\n",
    "                    team_links.append('TOT')\n",
    "\n",
    "        season_id = str(year-1) + '-' + str(year)[-2:]\n",
    "        df = pd.DataFrame(player_stats, columns=HEADER)\n",
    "        df.insert(0, \"bbref_player_link\", player_links)\n",
    "        df.insert(0, \"bbref_team_link\", team_links)\n",
    "        df.insert(0, \"season_year\", year)\n",
    "        df.insert(0, 'season_id', season_id)\n",
    "\n",
    "        filename = f\"player_stats_{stat_type}_{year}.csv\"\n",
    "        file_path = DIR + filename\n",
    "        df.to_csv(file_path, index=False)\n",
    "        print(file_path)\n",
    "\n",
    "        timer = random.uniform(1.5, 3)\n",
    "        time.sleep(timer)\n",
    "        print(f\"slept: {timer}\\n\")"
   ]
  },
  {
   "cell_type": "code",
   "execution_count": null,
   "metadata": {},
   "outputs": [],
   "source": []
  }
 ],
 "metadata": {
  "kernelspec": {
   "display_name": "Python 3",
   "language": "python",
   "name": "python3"
  },
  "language_info": {
   "codemirror_mode": {
    "name": "ipython",
    "version": 3
   },
   "file_extension": ".py",
   "mimetype": "text/x-python",
   "name": "python",
   "nbconvert_exporter": "python",
   "pygments_lexer": "ipython3",
   "version": "3.7.4"
  },
  "toc": {
   "base_numbering": 1,
   "nav_menu": {},
   "number_sections": false,
   "sideBar": true,
   "skip_h1_title": true,
   "title_cell": "Table of Contents",
   "title_sidebar": "Table of Contents",
   "toc_cell": false,
   "toc_position": {},
   "toc_section_display": true,
   "toc_window_display": false
  }
 },
 "nbformat": 4,
 "nbformat_minor": 2
}
