{
 "cells": [
  {
   "cell_type": "code",
   "execution_count": 1,
   "metadata": {},
   "outputs": [],
   "source": [
    "import pandas as pd\n",
    "import random\n",
    "import requests\n",
    "import pathlib\n",
    "from bs4 import BeautifulSoup, Tag, NavigableString\n",
    "import os\n",
    "import time"
   ]
  },
  {
   "cell_type": "code",
   "execution_count": 2,
   "metadata": {},
   "outputs": [],
   "source": [
    "HOME_DIR = pathlib.Path.home()\n",
    "NOTEBOOK_DIR = pathlib.Path('.').resolve()\n",
    "BBREF_DIR = HOME_DIR.joinpath('data') / 'bbref'"
   ]
  },
  {
   "cell_type": "code",
   "execution_count": 3,
   "metadata": {},
   "outputs": [],
   "source": [
    "NBA_ADVANCED_DIR = BBREF_DIR /'nba' / 'player_stats' / 'advanced'\n",
    "NBA_PER_GAME_DIR = BBREF_DIR /'nba' / 'player_stats' / 'per_game'\n",
    "NBA_TOTALS_DIR = BBREF_DIR / 'nba' / 'player_stats' / 'totals'\n",
    "\n",
    "ABA_ADVANCED_DIR = BBREF_DIR /'aba' / 'player_stats' / 'advanced'\n",
    "ABA_PER_GAME_DIR = BBREF_DIR /'aba' / 'player_stats' / 'per_game'\n",
    "ABA_TOTALS_DIR = BBREF_DIR / 'aba' / 'player_stats' / 'totals'"
   ]
  },
  {
   "cell_type": "code",
   "execution_count": 4,
   "metadata": {},
   "outputs": [],
   "source": [
    "directory_list = [NBA_ADVANCED_DIR, NBA_PER_GAME_DIR, NBA_TOTALS_DIR,\n",
    "                  ABA_ADVANCED_DIR, ABA_PER_GAME_DIR, ABA_TOTALS_DIR]"
   ]
  },
  {
   "cell_type": "code",
   "execution_count": 5,
   "metadata": {},
   "outputs": [],
   "source": [
    "for directory in directory_list:\n",
    "    if not os.path.exists(directory):\n",
    "        os.makedirs(directory)\n",
    "        print(f\"Directory created: {directory}\")"
   ]
  },
  {
   "cell_type": "markdown",
   "metadata": {},
   "source": [
    "### Get and Set Header - User-Agent"
   ]
  },
  {
   "cell_type": "code",
   "execution_count": 6,
   "metadata": {},
   "outputs": [
    {
     "data": {
      "text/plain": [
       "{'User-Agent': 'Mozilla/5.0 (X11; Linux x86_64) AppleWebKit/537.36 (KHTML, like Gecko) Chrome/55.0.2883.87 Safari/537.36'}"
      ]
     },
     "execution_count": 6,
     "metadata": {},
     "output_type": "execute_result"
    }
   ],
   "source": [
    "headers = {'User-Agent': (f\"Mozilla/5.0 (X11; Linux x86_64) AppleWebKit/537.36\"\n",
    "                          f\" (KHTML, like Gecko) Chrome/55.0.2883.87 Safari/537.36\")}\n",
    "headers"
   ]
  },
  {
   "cell_type": "code",
   "execution_count": null,
   "metadata": {},
   "outputs": [],
   "source": []
  },
  {
   "cell_type": "code",
   "execution_count": 7,
   "metadata": {},
   "outputs": [],
   "source": [
    "TOTALS_HEADER = ['player', 'pos', 'age', 'team', 'g', 'gs', 'mp', \n",
    "                 'fg', 'fga', 'fg_pct', 'fg3', 'fg3a', 'fg3_pct', 'fg2', 'fga2', 'fg2_pct',\n",
    "                 'efg_pct', 'ft', 'fta', 'ft_pct', 'oreb', 'dreb', 'treb', 'ast', 'stl', 'blk', 'tov', 'pf', 'pts']\n",
    "\n",
    "ADVANCED_HEADER = ['player', 'pos', 'age', 'team', 'g','mp', 'per', 'ts_pct', \n",
    "                   'fg3a_rate', 'fta_rate', 'oreb_pct', 'dreb_pct', 'treb_pct', 'ast_pct', 'stl_pct', 'blk_pct',\n",
    "                   'tov_pct','usage_pct', 'blank1', 'ows', 'dws', 'ws', 'ws_48', 'blank2', 'obpm', 'dbpm', 'bpm',\n",
    "                   'vorp']\n",
    "\n",
    "PER_GAME_HEADER = ['player', 'pos', 'age', 'team', 'g', 'gs', 'mp', \n",
    "                 'fg', 'fga', 'fg_pct', 'fg3', 'fg3a', 'fg3_pct', 'fg2', 'fga2', 'fg2_pct',\n",
    "                 'efg_pct', 'ft', 'fta', 'ft_pct', 'oreb', 'dreb', 'treb', 'ast', 'stl', 'blk', 'tov', 'pf', 'pts']\n",
    "\n",
    "# PER100_HEADER = ['player', 'pos', 'age', 'team', 'g', 'gs', 'mp', 'fg', 'fga', 'fg_pct', \n",
    "#                  'fg3', 'fg3a', 'fg3_pct', 'fg2', 'fga2', 'fg2_pct', 'ft', 'fta', 'ft_pct', \n",
    "#                  'oreb', 'dreb', 'treb', 'ast', 'stl', 'blk', 'tov', 'pf', 'pts', 'blank', 'ortg', 'drtg']\n",
    "\n",
    "BIOS_HEADER = ['bbref_player_link', 'player_name', 'rookie_year', 'last_year', 'pos', 'height', \n",
    "               'weight', 'birthdate', 'colleges']"
   ]
  },
  {
   "cell_type": "markdown",
   "metadata": {},
   "source": [
    "### Pull Player Data: NBA/BAA"
   ]
  },
  {
   "cell_type": "code",
   "execution_count": 11,
   "metadata": {},
   "outputs": [],
   "source": [
    "# https://www.basketball-reference.com/leagues/ABA_1968_totals.html"
   ]
  },
  {
   "cell_type": "code",
   "execution_count": null,
   "metadata": {
    "scrolled": true
   },
   "outputs": [
    {
     "name": "stdout",
     "output_type": "stream",
     "text": [
      "2020\n",
      "https://www.basketball-reference.com/leagues/NBA_2020_advanced.html\n",
      "/Users/datawonk/data/bbref/nba/player_stats/advanced/player_stats_advanced_2020.csv\n",
      "slept: 2.3563643521007673\n",
      "\n",
      "2020\n",
      "https://www.basketball-reference.com/leagues/NBA_2020_per_game.html\n",
      "/Users/datawonk/data/bbref/nba/player_stats/per_game/player_stats_per_game_2020.csv\n",
      "slept: 2.782533176544586\n",
      "\n",
      "2020\n",
      "https://www.basketball-reference.com/leagues/NBA_2020_totals.html\n",
      "/Users/datawonk/data/bbref/nba/player_stats/totals/player_stats_totals_2020.csv\n",
      "slept: 2.8111632929368007\n",
      "\n",
      "2019\n",
      "https://www.basketball-reference.com/leagues/NBA_2019_advanced.html\n",
      "/Users/datawonk/data/bbref/nba/player_stats/advanced/player_stats_advanced_2019.csv\n",
      "slept: 2.1927517606709785\n",
      "\n",
      "2019\n",
      "https://www.basketball-reference.com/leagues/NBA_2019_per_game.html\n",
      "/Users/datawonk/data/bbref/nba/player_stats/per_game/player_stats_per_game_2019.csv\n",
      "slept: 1.5678174153961526\n",
      "\n",
      "2019\n",
      "https://www.basketball-reference.com/leagues/NBA_2019_totals.html\n",
      "/Users/datawonk/data/bbref/nba/player_stats/totals/player_stats_totals_2019.csv\n",
      "slept: 2.160148244866434\n",
      "\n",
      "2018\n",
      "https://www.basketball-reference.com/leagues/NBA_2018_advanced.html\n",
      "/Users/datawonk/data/bbref/nba/player_stats/advanced/player_stats_advanced_2018.csv\n",
      "slept: 2.9500761500792336\n",
      "\n",
      "2018\n",
      "https://www.basketball-reference.com/leagues/NBA_2018_per_game.html\n",
      "/Users/datawonk/data/bbref/nba/player_stats/per_game/player_stats_per_game_2018.csv\n",
      "slept: 2.348736543652044\n",
      "\n",
      "2018\n",
      "https://www.basketball-reference.com/leagues/NBA_2018_totals.html\n",
      "/Users/datawonk/data/bbref/nba/player_stats/totals/player_stats_totals_2018.csv\n",
      "slept: 1.707838659596755\n",
      "\n",
      "2017\n",
      "https://www.basketball-reference.com/leagues/NBA_2017_advanced.html\n",
      "/Users/datawonk/data/bbref/nba/player_stats/advanced/player_stats_advanced_2017.csv\n",
      "slept: 2.717656314117375\n",
      "\n",
      "2017\n",
      "https://www.basketball-reference.com/leagues/NBA_2017_per_game.html\n",
      "/Users/datawonk/data/bbref/nba/player_stats/per_game/player_stats_per_game_2017.csv\n",
      "slept: 2.119114046936611\n",
      "\n",
      "2017\n",
      "https://www.basketball-reference.com/leagues/NBA_2017_totals.html\n",
      "/Users/datawonk/data/bbref/nba/player_stats/totals/player_stats_totals_2017.csv\n",
      "slept: 2.553354275316273\n",
      "\n",
      "2016\n",
      "https://www.basketball-reference.com/leagues/NBA_2016_advanced.html\n",
      "/Users/datawonk/data/bbref/nba/player_stats/advanced/player_stats_advanced_2016.csv\n",
      "slept: 1.7182295307702002\n",
      "\n",
      "2016\n",
      "https://www.basketball-reference.com/leagues/NBA_2016_per_game.html\n",
      "/Users/datawonk/data/bbref/nba/player_stats/per_game/player_stats_per_game_2016.csv\n",
      "slept: 1.6935854636067957\n",
      "\n",
      "2016\n",
      "https://www.basketball-reference.com/leagues/NBA_2016_totals.html\n",
      "/Users/datawonk/data/bbref/nba/player_stats/totals/player_stats_totals_2016.csv\n",
      "slept: 1.5817883293988744\n",
      "\n",
      "2015\n",
      "https://www.basketball-reference.com/leagues/NBA_2015_advanced.html\n",
      "/Users/datawonk/data/bbref/nba/player_stats/advanced/player_stats_advanced_2015.csv\n",
      "slept: 1.5061127473995468\n",
      "\n",
      "2015\n",
      "https://www.basketball-reference.com/leagues/NBA_2015_per_game.html\n",
      "/Users/datawonk/data/bbref/nba/player_stats/per_game/player_stats_per_game_2015.csv\n",
      "slept: 2.6040437912136793\n",
      "\n",
      "2015\n",
      "https://www.basketball-reference.com/leagues/NBA_2015_totals.html\n",
      "/Users/datawonk/data/bbref/nba/player_stats/totals/player_stats_totals_2015.csv\n",
      "slept: 1.7228259013242186\n",
      "\n",
      "2014\n",
      "https://www.basketball-reference.com/leagues/NBA_2014_advanced.html\n",
      "/Users/datawonk/data/bbref/nba/player_stats/advanced/player_stats_advanced_2014.csv\n",
      "slept: 1.9441374709013757\n",
      "\n",
      "2014\n",
      "https://www.basketball-reference.com/leagues/NBA_2014_per_game.html\n"
     ]
    }
   ],
   "source": [
    "BASE_URL = \"https://www.basketball-reference.com/leagues/\"\n",
    "NBA_years = [year for year in range(2020, 1949, -1)]\n",
    "stats_type_list = ['advanced', 'per_game', 'totals']\n",
    "\n",
    "for year in NBA_years:\n",
    "    for stat_type in stats_type_list:\n",
    "\n",
    "        if stat_type == 'advanced':\n",
    "            DIR = NBA_ADVANCED_DIR\n",
    "            HEADER = ADVANCED_HEADER\n",
    "        elif stat_type == 'per_game':\n",
    "            DIR = NBA_PER_GAME_DIR\n",
    "            HEADER = PER_GAME_HEADER\n",
    "        elif stat_type == 'totals':\n",
    "            DIR = NBA_TOTALS_DIR\n",
    "            HEADER = TOTALS_HEADER\n",
    "            \n",
    "        print(year)\n",
    "        NBA_URL = f\"NBA_{year}_{stat_type}.html\"\n",
    "        print(BASE_URL + NBA_URL)\n",
    "        r = requests.get(BASE_URL + NBA_URL, headers=headers)\n",
    "\n",
    "        soup = BeautifulSoup(r.text, 'lxml')\n",
    "        # pull out table body\n",
    "        body = soup.find('tbody')\n",
    "\n",
    "        player_links = []\n",
    "        for i in body.find_all('tr'):\n",
    "            for k in i.find_all('td', {\"data-stat\":\"player\"}):\n",
    "                if k.find('a') is not None:\n",
    "                    player_links.append(k.find('a')['href'])\n",
    "                # print(k.text)\n",
    "\n",
    "\n",
    "        player_stats = []\n",
    "        for i in body.find_all('tr'):\n",
    "            row_stats = []\n",
    "            for j in i.find_all('td'):\n",
    "                row_stats.append(j.text)\n",
    "            if row_stats:\n",
    "                player_stats.append(row_stats)\n",
    "\n",
    "        team_links = []\n",
    "        for i in body.find_all('tr'):\n",
    "            for k in i.find_all('td', {\"data-stat\":\"team_id\"}):\n",
    "                if k.find('a') is not None:\n",
    "                    team_links.append(k.find('a')['href'])\n",
    "                else:\n",
    "                    team_links.append('TOT')\n",
    "\n",
    "        season_id = str(year-1) + '-' + str(year)[-2:]\n",
    "        df = pd.DataFrame(player_stats, columns=HEADER)\n",
    "        df.insert(0, \"bbref_player_link\", player_links)\n",
    "        df.insert(0, \"bbref_team_link\", team_links)\n",
    "        df.insert(0, \"season_year\", year)\n",
    "        df.insert(0, 'season_id', season_id)\n",
    "\n",
    "        filename = f\"player_stats_{stat_type}_{year}.csv\"\n",
    "        file_path = DIR / filename\n",
    "        df.to_csv(file_path, index=False)\n",
    "        print(file_path)\n",
    "\n",
    "        timer = random.uniform(1.5, 3)\n",
    "        time.sleep(timer)\n",
    "        print(f\"slept: {timer}\\n\")\n"
   ]
  },
  {
   "cell_type": "code",
   "execution_count": null,
   "metadata": {},
   "outputs": [],
   "source": []
  },
  {
   "cell_type": "markdown",
   "metadata": {},
   "source": [
    "### Pull Player Data: ABA"
   ]
  },
  {
   "cell_type": "code",
   "execution_count": 48,
   "metadata": {
    "scrolled": true
   },
   "outputs": [
    {
     "name": "stdout",
     "output_type": "stream",
     "text": [
      "1976\n",
      "https://www.basketball-reference.com/leagues/ABA_1976_advanced.html\n",
      "data/aba/player_stats/advanced/player_stats_advanced_1976.csv\n",
      "slept: 1.521762778619463\n",
      "\n",
      "1976\n",
      "https://www.basketball-reference.com/leagues/ABA_1976_per_game.html\n",
      "data/aba/player_stats/per_game/player_stats_per_game_1976.csv\n",
      "slept: 2.7343880294027882\n",
      "\n",
      "1976\n",
      "https://www.basketball-reference.com/leagues/ABA_1976_totals.html\n",
      "data/aba/player_stats/totals/player_stats_totals_1976.csv\n",
      "slept: 1.999381522529545\n",
      "\n"
     ]
    }
   ],
   "source": [
    "# https://www.basketball-reference.com/leagues/ABA_1968_totals.html\n",
    "\n",
    "BASE_URL = \"https://www.basketball-reference.com/leagues/\"\n",
    "ABA_years = [year for year in range(1976, 1967, -1)]\n",
    "stats_type_list = ['advanced', 'per_game', 'totals']\n",
    "\n",
    "\n",
    "for year in ABA_years:\n",
    "    for stat_type in stats_type_list:\n",
    "\n",
    "        if stat_type == 'advanced':\n",
    "            DIR = ABA_ADVANCED_DIR\n",
    "            HEADER = ADVANCED_HEADER\n",
    "        elif stat_type == 'per_game':\n",
    "            DIR = ABA_PER_GAME_DIR\n",
    "            HEADER = PER_GAME_HEADER\n",
    "        elif stat_type == 'totals':\n",
    "            DIR = ABA_TOTALS_DIR\n",
    "            HEADER = TOTALS_HEADER\n",
    "        \n",
    "        print(year)\n",
    "        NBA_URL = f\"ABA_{year}_{stat_type}.html\"\n",
    "        print(BASE_URL + NBA_URL)\n",
    "        r = requests.get(BASE_URL + NBA_URL, headers=headers)\n",
    "\n",
    "        soup = BeautifulSoup(r.text, 'lxml')\n",
    "        # pull out table body\n",
    "        body = soup.find('tbody')\n",
    "\n",
    "        player_links = []\n",
    "        for i in body.find_all('tr'):\n",
    "            for k in i.find_all('td', {\"data-stat\":\"player\"}):\n",
    "                if k.find('a') is not None:\n",
    "                    player_links.append(k.find('a')['href'])\n",
    "                # print(k.text)\n",
    "\n",
    "\n",
    "        player_stats = []\n",
    "        for i in body.find_all('tr'):\n",
    "            row_stats = []\n",
    "            for j in i.find_all('td'):\n",
    "                row_stats.append(j.text)\n",
    "            if row_stats:\n",
    "                player_stats.append(row_stats)\n",
    "\n",
    "        team_links = []\n",
    "        for i in body.find_all('tr'):\n",
    "            for k in i.find_all('td', {\"data-stat\":\"team_id\"}):\n",
    "                if k.find('a') is not None:\n",
    "                    team_links.append(k.find('a')['href'])\n",
    "                else:\n",
    "                    team_links.append('TOT')\n",
    "\n",
    "        season_id = str(year-1) + '-' + str(year)[-2:]\n",
    "        df = pd.DataFrame(player_stats, columns=HEADER)\n",
    "        df.insert(0, \"bbref_player_link\", player_links)\n",
    "        df.insert(0, \"bbref_team_link\", team_links)\n",
    "        df.insert(0, \"season_year\", year)\n",
    "        df.insert(0, 'season_id', season_id)\n",
    "\n",
    "        filename = f\"player_stats_{stat_type}_{year}.csv\"\n",
    "        file_path = DIR + filename\n",
    "        df.to_csv(file_path, index=False)\n",
    "        print(file_path)\n",
    "\n",
    "        timer = random.uniform(1.5, 3)\n",
    "        time.sleep(timer)\n",
    "        print(f\"slept: {timer}\\n\")"
   ]
  },
  {
   "cell_type": "code",
   "execution_count": null,
   "metadata": {},
   "outputs": [],
   "source": []
  }
 ],
 "metadata": {
  "kernelspec": {
   "display_name": "Python 3",
   "language": "python",
   "name": "python3"
  },
  "language_info": {
   "codemirror_mode": {
    "name": "ipython",
    "version": 3
   },
   "file_extension": ".py",
   "mimetype": "text/x-python",
   "name": "python",
   "nbconvert_exporter": "python",
   "pygments_lexer": "ipython3",
   "version": "3.7.4"
  },
  "toc": {
   "base_numbering": 1,
   "nav_menu": {},
   "number_sections": false,
   "sideBar": true,
   "skip_h1_title": true,
   "title_cell": "Table of Contents",
   "title_sidebar": "Table of Contents",
   "toc_cell": false,
   "toc_position": {},
   "toc_section_display": true,
   "toc_window_display": false
  }
 },
 "nbformat": 4,
 "nbformat_minor": 2
}
